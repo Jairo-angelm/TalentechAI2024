{
  "nbformat": 4,
  "nbformat_minor": 0,
  "metadata": {
    "colab": {
      "provenance": []
    },
    "kernelspec": {
      "name": "python3",
      "display_name": "Python 3"
    },
    "language_info": {
      "name": "python"
    }
  },
  "cells": [
    {
      "cell_type": "markdown",
      "source": [
        "Ejercicio práctico implementar una red neuronal\n",
        "para clasi"
      ],
      "metadata": {
        "id": "naFx61xr6iQu"
      }
    },
    {
      "cell_type": "markdown",
      "source": [
        "1. Importar bibliotecas"
      ],
      "metadata": {
        "id": "FVnEY5ou6nwC"
      }
    },
    {
      "cell_type": "code",
      "execution_count": 3,
      "metadata": {
        "id": "HwkUsuVu6bwc"
      },
      "outputs": [],
      "source": [
        "import keras\n",
        "from sklearn.datasets import make_classification\n",
        "from sklearn.model_selection import train_test_split\n",
        "\n"
      ]
    },
    {
      "cell_type": "markdown",
      "source": [
        "  2. Generacion de datos de clasificacion sintetico"
      ],
      "metadata": {
        "id": "TFoYhaFC7o5C"
      }
    },
    {
      "cell_type": "code",
      "source": [
        "X, y = make_classification(n_samples=100, n_features=5, n_classes=2)"
      ],
      "metadata": {
        "id": "4yLgsBMG7yIe"
      },
      "execution_count": 5,
      "outputs": []
    },
    {
      "cell_type": "markdown",
      "source": [
        "  3. Division de datos"
      ],
      "metadata": {
        "id": "0Fnv-KN0D8dE"
      }
    },
    {
      "cell_type": "code",
      "source": [
        "#Dividir datos en conjunto de entrenamiento y prueba\n",
        "X_train, X_Test, y_train, y_test = train_test_split(X,y,test_size=0.2)\n"
      ],
      "metadata": {
        "id": "6CjUuwrjD_Mo"
      },
      "execution_count": 6,
      "outputs": []
    },
    {
      "cell_type": "markdown",
      "source": [
        "  4.   Codidificacion one-hot de las etiquetas\n",
        "\n",
        "El método de codificación Label Encoding es una forma sencilla de asignar valores numéricos a las diferentes categorías de una variable categórica. Sin embargo, presenta una limitación importante, y es que estos valores numéricos pueden ser malinterpretados por algunos algoritmos de aprendizaje automático. Por ejemplo, si codificamos cuatro ciudades con los valores 0, 1, 2 y 3, es posible que un algoritmo interprete erróneamente que, por ejemplo, la ciudad correspondiente al valor 3 tiene -según algún criterio- un valor tres veces mayor que la ciudad con el valor 1, lo cual no es cierto.\n",
        "\n",
        "Una alternativa al Label Encoding es el método de codificación llamado One Hot Encoding. Esta estrategia consiste en crear una columna binaria (que solo puede contener los valores 0 o 1) para cada valor único que exista en la variable categórica que estamos codificando, y marcar con un 1 la columna correspondiente al valor presente en cada registro, dejando las demás columnas con un valor de 0. Por ejemplo, en el caso de la variable \"sex\" de los pasajeros del Titanic, One Hot Encoding crearía dos columnas binarias (una para el valor \"male\" y otra para el valor \"female\"). Para cada pasajero, se asignaría un valor de 1 a la columna correspondiente a su género y un valor de 0 a la columna del género opuesto. De esta manera, cada registro queda representado por un vector binario que indica la presencia o ausencia de cada valor categórico, y se evita la posibilidad de que los algoritmos malinterpreten los valores numéricos asignados por Label Encoding.\n",
        "https://interactivechaos.com/es/manual/tutorial-de-machine-learning/one-hot-encoding"
      ],
      "metadata": {
        "id": "PdNQuH-vEnfZ"
      }
    },
    {
      "cell_type": "code",
      "source": [
        "# Convertir las etiquetas a codificacion one-hot\n",
        "y_train_categorical = keras.utils.to_categorical(y_train)\n",
        "y_test_categoriacal = keras.utils.to_categorical(y_test)"
      ],
      "metadata": {
        "id": "BaPIdaWPExY0"
      },
      "execution_count": 7,
      "outputs": []
    },
    {
      "cell_type": "markdown",
      "source": [
        "  5. Creación del modelo"
      ],
      "metadata": {
        "id": "tFmLTrziF5OL"
      }
    },
    {
      "cell_type": "code",
      "source": [
        "#Crear una instancia de un modelo secuencial de keras\n",
        "model = keras.models.Sequential()"
      ],
      "metadata": {
        "id": "PzPa0SIqF9GM"
      },
      "execution_count": 8,
      "outputs": []
    },
    {
      "cell_type": "markdown",
      "source": [
        "  6. Añadir capas al modelo"
      ],
      "metadata": {
        "id": "Kz4kN1GUGNYb"
      }
    },
    {
      "cell_type": "code",
      "source": [
        "# Añadir una capa oculta con 10 neuronas y activacion ReLU\n",
        "model.add(keras.layers.Dense(10,input_shape=(X_train.shape[1],), activation='relu'))\n",
        "# Añadir una capa de salida con 2 neuronas (una para cada clase) a activacion softmax\n",
        "model.add(keras.layers.Dense(2,activation='softmax'))"
      ],
      "metadata": {
        "id": "KL-uoTRAGQ9l"
      },
      "execution_count": 11,
      "outputs": []
    },
    {
      "cell_type": "markdown",
      "source": [
        "    7. Compilacion del modelo"
      ],
      "metadata": {
        "id": "CGzjkMcjHOgH"
      }
    },
    {
      "cell_type": "code",
      "source": [
        "# Compilar el modelo\n",
        "model.compile(optimizer='adam',loss='categorical_crossentropy',metrics=['accuracy'])"
      ],
      "metadata": {
        "id": "jFlEhrqQHRYe"
      },
      "execution_count": 12,
      "outputs": []
    },
    {
      "cell_type": "markdown",
      "source": [
        "  8. Entrenamiento del modelo"
      ],
      "metadata": {
        "id": "xOwxyq5uHobs"
      }
    },
    {
      "cell_type": "code",
      "source": [
        "# Entrnar modelo\n",
        "model.fit(X_train, y_train_categorical, epochs=10, batch_size=32, validation_data=(X_Test, y_test_categoriacal))"
      ],
      "metadata": {
        "colab": {
          "base_uri": "https://localhost:8080/"
        },
        "id": "_IV-fJQNHv77",
        "outputId": "d8bd248f-5002-4ce3-a87f-04ae1e8f9575"
      },
      "execution_count": 15,
      "outputs": [
        {
          "output_type": "stream",
          "name": "stdout",
          "text": [
            "Epoch 1/10\n",
            "3/3 [==============================] - 2s 139ms/step - loss: 0.8323 - accuracy: 0.5125 - val_loss: 0.8566 - val_accuracy: 0.4500\n",
            "Epoch 2/10\n",
            "3/3 [==============================] - 0s 19ms/step - loss: 0.8191 - accuracy: 0.5125 - val_loss: 0.8444 - val_accuracy: 0.4500\n",
            "Epoch 3/10\n",
            "3/3 [==============================] - 0s 17ms/step - loss: 0.8069 - accuracy: 0.5125 - val_loss: 0.8323 - val_accuracy: 0.4500\n",
            "Epoch 4/10\n",
            "3/3 [==============================] - 0s 17ms/step - loss: 0.7951 - accuracy: 0.5125 - val_loss: 0.8206 - val_accuracy: 0.5000\n",
            "Epoch 5/10\n",
            "3/3 [==============================] - 0s 17ms/step - loss: 0.7834 - accuracy: 0.5125 - val_loss: 0.8096 - val_accuracy: 0.5000\n",
            "Epoch 6/10\n",
            "3/3 [==============================] - 0s 17ms/step - loss: 0.7714 - accuracy: 0.5125 - val_loss: 0.7990 - val_accuracy: 0.5000\n",
            "Epoch 7/10\n",
            "3/3 [==============================] - 0s 25ms/step - loss: 0.7611 - accuracy: 0.5250 - val_loss: 0.7884 - val_accuracy: 0.5000\n",
            "Epoch 8/10\n",
            "3/3 [==============================] - 0s 26ms/step - loss: 0.7498 - accuracy: 0.5250 - val_loss: 0.7783 - val_accuracy: 0.5000\n",
            "Epoch 9/10\n",
            "3/3 [==============================] - 0s 17ms/step - loss: 0.7394 - accuracy: 0.5250 - val_loss: 0.7683 - val_accuracy: 0.5000\n",
            "Epoch 10/10\n",
            "3/3 [==============================] - 0s 17ms/step - loss: 0.7294 - accuracy: 0.5250 - val_loss: 0.7587 - val_accuracy: 0.5000\n"
          ]
        },
        {
          "output_type": "execute_result",
          "data": {
            "text/plain": [
              "<keras.src.callbacks.History at 0x7e09f5fccee0>"
            ]
          },
          "metadata": {},
          "execution_count": 15
        }
      ]
    },
    {
      "cell_type": "markdown",
      "source": [
        "  9.  Evaluación del modelo:"
      ],
      "metadata": {
        "id": "KfOCBYBEJAjC"
      }
    },
    {
      "cell_type": "code",
      "source": [
        "loss, accuracy = model.evaluate(X_Test, y_test_categoriacal)"
      ],
      "metadata": {
        "colab": {
          "base_uri": "https://localhost:8080/"
        },
        "id": "5HxBsIeoJLg7",
        "outputId": "0e363aa8-94fd-4fc7-c23e-0c1a9eb13f10"
      },
      "execution_count": 17,
      "outputs": [
        {
          "output_type": "stream",
          "name": "stdout",
          "text": [
            "1/1 [==============================] - 0s 27ms/step - loss: 0.7587 - accuracy: 0.5000\n"
          ]
        }
      ]
    },
    {
      "cell_type": "markdown",
      "source": [
        "  10. Impresión de resultados"
      ],
      "metadata": {
        "id": "MF_yF-8WIjqg"
      }
    },
    {
      "cell_type": "code",
      "source": [
        "print (\"Perdida en el conjunto de prueba\", loss)\n",
        "print (\"Precision en el conjunto de prueba\", accuracy)"
      ],
      "metadata": {
        "colab": {
          "base_uri": "https://localhost:8080/"
        },
        "id": "SyptCPZuIoX1",
        "outputId": "30d07d24-1c70-4266-c886-b64f734215ee"
      },
      "execution_count": 18,
      "outputs": [
        {
          "output_type": "stream",
          "name": "stdout",
          "text": [
            "Perdida en el conjunto de prueba 0.7587219476699829\n",
            "Precision en el conjunto de prueba 0.5\n"
          ]
        }
      ]
    }
  ]
}