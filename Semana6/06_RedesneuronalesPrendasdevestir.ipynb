{
  "nbformat": 4,
  "nbformat_minor": 0,
  "metadata": {
    "colab": {
      "provenance": []
    },
    "kernelspec": {
      "name": "python3",
      "display_name": "Python 3"
    },
    "language_info": {
      "name": "python"
    }
  },
  "cells": [
    {
      "cell_type": "markdown",
      "source": [
        "# **Redes neuronales completamente conectadas aplicadas en Fashion MNIST  reconocimiento de prendas de vestir**"
      ],
      "metadata": {
        "id": "gpjvX3hhvRh-"
      }
    },
    {
      "cell_type": "markdown",
      "source": [
        "  1. Carga del conjunto de datos Fashion MNIST"
      ],
      "metadata": {
        "id": "tmA9cznHvWd1"
      }
    },
    {
      "cell_type": "code",
      "source": [
        "# Carga del conjunto de datos Fashion MNIST\n",
        "import keras\n",
        "fmnist = keras.datasets.fashion_mnist"
      ],
      "metadata": {
        "id": "MD2bjtUqvhSV"
      },
      "execution_count": 2,
      "outputs": []
    },
    {
      "cell_type": "markdown",
      "source": [
        "  2. Carga division de datos entrenamiento y prueba"
      ],
      "metadata": {
        "id": "jFBMGsTfwHku"
      }
    },
    {
      "cell_type": "code",
      "source": [
        "#carga sivision de datos entrenamiento y prueba\n",
        "(training_images, training_labels), (test_images, test_labels) = fmnist.load_data()\n"
      ],
      "metadata": {
        "id": "CRc9JzmawM1l"
      },
      "execution_count": 6,
      "outputs": []
    },
    {
      "cell_type": "markdown",
      "source": [
        "  3. Visualizacion de una muestra"
      ],
      "metadata": {
        "id": "U6BZP1Piw0-P"
      }
    },
    {
      "cell_type": "code",
      "source": [
        " #Visualizacion de una muestra\n",
        " import numpy as np\n",
        " import matplotlib.pyplot as plt\n",
        " #se puede visualizar ejeplos de imagenes entre 0 y 59999\n",
        " index = 10\n",
        " # Imprime la etiqueta y la imagen\n",
        " np.set_printoptions(linewidth=320)\n",
        " print (f'Label:  {training_labels[index]}')\n",
        " print (f'Image:\\n   {training_images[index]}')\n",
        "# Visualiza la imagen\n",
        "plt.imshow(training_images[index])\n"
      ],
      "metadata": {
        "colab": {
          "base_uri": "https://localhost:8080/",
          "height": 1000
        },
        "id": "ZVAOdPbdw4CU",
        "outputId": "d06e21a5-14d3-4ac5-8917-22f3b53ba5d6"
      },
      "execution_count": 10,
      "outputs": [
        {
          "output_type": "stream",
          "name": "stdout",
          "text": [
            "Label:  0\n",
            "Image:\n",
            "   [[  0   0   0   0   0   0   0  11 142 200 106   0   0   0   0   0   0   0  85 185 112   0   0   0   0   0   0   0]\n",
            " [  0   0   0   0   0   0 152 214 217 194 236 216 187 149 135 153 211 217 231 205 217 188  34   0   0   0   0   0]\n",
            " [  0   0   0   0   0  66 185 166 180 181 190 211 221 197 146 198 206 191 168 190 172 188 175   0   0   0   0   0]\n",
            " [  0   0   0   0   0 135 153 160 175 180 170 186 187 190 188 190 187 174 195 185 174 161 175  59   0   0   0   0]\n",
            " [  0   0   0   0   0 161 147 160 170 178 177 180 168 173 174 171 185 184 185 172 171 164 174 120   0   0   0   0]\n",
            " [  0   0   0   0   2 175 146 145 168 178 181 185 180 184 178 179 187 191 193 190 181 171 172 158   0   0   0   0]\n",
            " [  0   0   0   0  35 177 155 140 151 172 191 187 186 187 186 187 182 191 194 188 180 161 161 185   0   0   0   0]\n",
            " [  0   0   0   0  59 170 153 141 120 154 160 161 172 168 166 161 165 172 170 164 139 149 162 166  21   0   0   0]\n",
            " [  0   0   0   0  79 145 160 214 123 128 153 160 164 158 157 154 155 170 165 141 195 193 152 166  61   0   0   0]\n",
            " [  0   0   0   0 100 157 225 245 175 113 174 158 158 160 155 160 164 178 188 135 185 240 201 172 108   0   0   0]\n",
            " [  0   0   0   0   0  31 174  28 126 153 166 152 158 158 160 161 157 168 191 188  18 132 159   7   0   0   0   0]\n",
            " [  0   0   0   0   0   0   0   0  82 187 159 153 157 158 162 164 164 154 187 190   0   0   0   0   0   0   0   0]\n",
            " [  0   0   0   0   1   3   5   0  37 175 158 155 162 158 160 162 165 153 177 205   0   0   3   3   0   0   0   0]\n",
            " [  0   0   0   0   0   0   1   0  25 175 152 160 158 161 160 164 164 161 166 200   0   0   1   0   0   0   0   0]\n",
            " [  0   0   0   0   0   0   4   0  30 171 147 164 155 165 161 165 162 170 164 162   0   0   2   0   0   0   0   0]\n",
            " [  0   0   0   0   0   0   4   0  57 166 155 164 166 161 161 164 167 165 165 162  28   0   3   0   0   0   0   0]\n",
            " [  0   0   0   0   0   0   3   0 114 161 161 166 159 168 161 161 172 162 165 171  50   0   5   0   0   0   0   0]\n",
            " [  0   0   0   0   0   0   1   0 149 157 167 172 159 172 164 161 172 170 160 171  89   0   4   0   0   0   0   0]\n",
            " [  0   0   0   0   0   2   0   4 171 164 166 173 159 179 166 160 174 167 162 166 128   0   2   0   0   0   0   0]\n",
            " [  0   0   0   0   0   3   0  18 152 173 160 179 154 181 166 164 175 170 166 170 164   0   0   1   0   0   0   0]\n",
            " [  0   0   0   0   0   4   0  47 165 172 167 185 153 187 173 165 174 179 166 166 158   5   0   3   0   0   0   0]\n",
            " [  0   0   0   0   0   4   0  87 180 162 179 179 157 191 182 165 168 190 173 165 166  20   0   4   0   0   0   0]\n",
            " [  0   0   0   0   0   4   0 105 187 157 194 175 161 190 184 170 158 205 177 168 171  44   0   4   0   0   0   0]\n",
            " [  0   0   0   0   0   5   0 138 181 158 205 160 167 190 198 167 152 218 186 170 172  57   0   5   0   0   0   0]\n",
            " [  0   0   0   0   0   5   0 135 174 167 199 155 166 201 219 165 158 218 188 167 175  56   0   7   0   0   0   0]\n",
            " [  0   0   0   0   0   5   0 129 171 172 177 153 159 206 216 148 157 206 190 165 175  48   0   5   0   0   0   0]\n",
            " [  0   0   0   0   0   5   0 167 187 182 198 194 200 226 240 184 206 255 197 178 179  42   0   5   0   0   0   0]\n",
            " [  0   0   0   0   0   3   0 115 135 113 106  85  82 108 133  83  90 121 120 110 158  18   0   3   0   0   0   0]]\n"
          ]
        },
        {
          "output_type": "execute_result",
          "data": {
            "text/plain": [
              "<matplotlib.image.AxesImage at 0x7e1ba772a350>"
            ]
          },
          "metadata": {},
          "execution_count": 10
        },
        {
          "output_type": "display_data",
          "data": {
            "text/plain": [
              "<Figure size 640x480 with 1 Axes>"
            ],
            "image/png": "[encoded data removed]"
          },
          "metadata": {}
        }
      ]
    },
    {
      "cell_type": "markdown",
      "source": [
        "  4. Normalizacion de datos"
      ],
      "metadata": {
        "id": "EKuOwwNtyO_x"
      }
    },
    {
      "cell_type": "code",
      "source": [
        "#Normalizacion los valores de pixeles del tren y proiar las imagenes\n",
        "training_images = training_images /255.0\n",
        "test_images = test_images /255.0"
      ],
      "metadata": {
        "id": "eGO2DXloyRpM"
      },
      "execution_count": 11,
      "outputs": []
    },
    {
      "cell_type": "markdown",
      "source": [
        "  5. Cosntruccion del modelo"
      ],
      "metadata": {
        "id": "w_Bicv6AysMs"
      }
    },
    {
      "cell_type": "code",
      "execution_count": 13,
      "metadata": {
        "id": "6qPMdd-jvNSN"
      },
      "outputs": [],
      "source": [
        "#Cosntruccion del modelo de clasificacion\n",
        "model = keras.models.Sequential([keras.layers.Flatten(input_shape=(28,28)),\n",
        "                                 keras.layers.Dense(128, activation='relu'),\n",
        "                                 keras.layers.Dense(10,activation='softmax')])"
      ]
    },
    {
      "cell_type": "markdown",
      "source": [
        "  6. Compilacion del modelo"
      ],
      "metadata": {
        "id": "3QUXsDgazIY2"
      }
    },
    {
      "cell_type": "code",
      "source": [
        "model.compile(optimizer='adam',\n",
        "              loss='sparse_categorical_crossentropy',\n",
        "              metrics=['accuracy'])\n",
        "model.summary()"
      ],
      "metadata": {
        "colab": {
          "base_uri": "https://localhost:8080/"
        },
        "id": "o_lgTz8-zJIc",
        "outputId": "2d5ec7f5-bc47-44ed-a515-a34f4eaabafe"
      },
      "execution_count": 14,
      "outputs": [
        {
          "output_type": "stream",
          "name": "stdout",
          "text": [
            "Model: \"sequential_1\"\n",
            "_________________________________________________________________\n",
            " Layer (type)                Output Shape              Param #   \n",
            "=================================================================\n",
            " flatten_1 (Flatten)         (None, 784)               0         \n",
            "                                                                 \n",
            " dense_2 (Dense)             (None, 128)               100480    \n",
            "                                                                 \n",
            " dense_3 (Dense)             (None, 10)                1290      \n",
            "                                                                 \n",
            "=================================================================\n",
            "Total params: 101770 (397.54 KB)\n",
            "Trainable params: 101770 (397.54 KB)\n",
            "Non-trainable params: 0 (0.00 Byte)\n",
            "_________________________________________________________________\n"
          ]
        }
      ]
    },
    {
      "cell_type": "markdown",
      "source": [
        "  7 Entrenar el modelo"
      ],
      "metadata": {
        "id": "vysGExtAzTun"
      }
    },
    {
      "cell_type": "code",
      "source": [
        "#Entrenar el modelo\n",
        "history = model.fit(training_images, training_labels, epochs=10)"
      ],
      "metadata": {
        "colab": {
          "base_uri": "https://localhost:8080/"
        },
        "id": "RRa1xAeIzUaZ",
        "outputId": "caa78b89-6ed6-4eb2-f314-e963b5bfaab8"
      },
      "execution_count": 15,
      "outputs": [
        {
          "output_type": "stream",
          "name": "stdout",
          "text": [
            "Epoch 1/10\n",
            "1875/1875 [==============================] - 10s 5ms/step - loss: 0.5018 - accuracy: 0.8233\n",
            "Epoch 2/10\n",
            "1875/1875 [==============================] - 7s 4ms/step - loss: 0.3743 - accuracy: 0.8648\n",
            "Epoch 3/10\n",
            "1875/1875 [==============================] - 9s 5ms/step - loss: 0.3360 - accuracy: 0.8760\n",
            "Epoch 4/10\n",
            "1875/1875 [==============================] - 11s 6ms/step - loss: 0.3120 - accuracy: 0.8855\n",
            "Epoch 5/10\n",
            "1875/1875 [==============================] - 16s 8ms/step - loss: 0.2930 - accuracy: 0.8913\n",
            "Epoch 6/10\n",
            "1875/1875 [==============================] - 8s 4ms/step - loss: 0.2807 - accuracy: 0.8959\n",
            "Epoch 7/10\n",
            "1875/1875 [==============================] - 10s 5ms/step - loss: 0.2674 - accuracy: 0.8999\n",
            "Epoch 8/10\n",
            "1875/1875 [==============================] - 9s 5ms/step - loss: 0.2562 - accuracy: 0.9047\n",
            "Epoch 9/10\n",
            "1875/1875 [==============================] - 8s 4ms/step - loss: 0.2487 - accuracy: 0.9072\n",
            "Epoch 10/10\n",
            "1875/1875 [==============================] - 9s 5ms/step - loss: 0.2392 - accuracy: 0.9106\n"
          ]
        }
      ]
    },
    {
      "cell_type": "markdown",
      "source": [
        "  8 graficar el historial de entrenamiento"
      ],
      "metadata": {
        "id": "HqIR3V1E0B54"
      }
    },
    {
      "cell_type": "code",
      "source": [
        "# Graficar el historial del entrenamiento\n",
        "import pandas as pd\n",
        "df = pd.DataFrame()\n",
        "pd.DataFrame(history.history).plot(grid=True)"
      ],
      "metadata": {
        "colab": {
          "base_uri": "https://localhost:8080/",
          "height": 468
        },
        "id": "RNOlldEf0C70",
        "outputId": "621b59d6-14b9-4abc-9642-cc77cc0eee57"
      },
      "execution_count": 17,
      "outputs": [
        {
          "output_type": "execute_result",
          "data": {
            "text/plain": [
              "<Axes: >"
            ]
          },
          "metadata": {},
          "execution_count": 17
        },
        {
          "output_type": "display_data",
          "data": {
            "text/plain": [
              "<Figure size 640x480 with 1 Axes>"
            ],
            "image/png": "[encoded data removed]"
          },
          "metadata": {}
        }
      ]
    },
    {
      "cell_type": "markdown",
      "source": [
        "  9 Evaluacion del modelo"
      ],
      "metadata": {
        "id": "xWtkdImi0V3y"
      }
    },
    {
      "cell_type": "code",
      "source": [
        "# Evaluacion del modelo\n",
        "loss, accuracy = model.evaluate(training_images, training_labels)\n",
        "print (\"Perdida en el conjunto de entrenamiento: \", loss)\n",
        "print (\"Prescision en el conjuno de entrenamiento:\" , accuracy)\n",
        "\n",
        "# Evaluacion del modelo con datos no vistos\n",
        "loss, accuracy = model.evaluate(test_images, test_labels)\n",
        "print (\"Perdida en el conjunto de pruebas: \", loss)\n",
        "print (\"Prescision en el conjuno de pruebas:\" , accuracy)"
      ],
      "metadata": {
        "colab": {
          "base_uri": "https://localhost:8080/"
        },
        "id": "ULkEtVOe0Wc9",
        "outputId": "13f0d7b8-6bd6-42a2-ee5a-a4587c61eee7"
      },
      "execution_count": 18,
      "outputs": [
        {
          "output_type": "stream",
          "name": "stdout",
          "text": [
            "1875/1875 [==============================] - 5s 3ms/step - loss: 0.2698 - accuracy: 0.9000\n",
            "Perdida en el conjunto de entrenamiento:  0.269828200340271\n",
            "Prescision en el conjuno de entrenamiento: 0.9000333547592163\n",
            "313/313 [==============================] - 1s 3ms/step - loss: 0.3914 - accuracy: 0.8680\n",
            "Perdida en el conjunto de pruebas:  0.39135101437568665\n",
            "Prescision en el conjuno de pruebas: 0.8679999709129333\n"
          ]
        }
      ]
    }
  ]
}