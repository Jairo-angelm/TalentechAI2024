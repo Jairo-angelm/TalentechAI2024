{
  "nbformat": 4,
  "nbformat_minor": 0,
  "metadata": {
    "colab": {
      "provenance": []
    },
    "kernelspec": {
      "name": "python3",
      "display_name": "Python 3"
    },
    "language_info": {
      "name": "python"
    }
  },
  "cells": [
    {
      "cell_type": "markdown",
      "source": [
        "Aprendizaje por refuerzo"
      ],
      "metadata": {
        "id": "tqtsfXbc7Os3"
      }
    },
    {
      "cell_type": "code",
      "source": [
        "class AgenteRL:\n",
        "  def __init__(self,acciones):\n",
        "    self.acciones = acciones\n",
        "\n",
        "    def seleccionar_accion(self,estado):\n",
        "\n",
        "      #Ejemplo de seleccion aleatoria de accion\n",
        "\n",
        "      return random.choice(self.acciones)\n",
        "\n",
        "      #Uso del agente RL\n",
        "\n",
        "      acciones_Posibles = [\"izquierda\",\"derecha\",\"arriba\",\"abajo\" ]\n",
        "      agente = AgenteRL(acciones_Posibles)\n",
        "      estado_actual = [0, 0 ]  #Estado inicial del entorno\n",
        "      accion_seleccionada = agente.seleccionar_accion(estado_actual)\n",
        "      print(\"Accion seleccionada por el agente:\", accion_seleccionada)\n",
        "\n",
        "\n",
        "      print(\"Accion seleccionada:\", accion_seleccionada)\n"
      ],
      "metadata": {
        "id": "vYLCagEw7S3c"
      },
      "execution_count": null,
      "outputs": []
    }
  ]
}