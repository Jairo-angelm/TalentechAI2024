{
  "nbformat": 4,
  "nbformat_minor": 0,
  "metadata": {
    "colab": {
      "provenance": []
    },
    "kernelspec": {
      "name": "python3",
      "display_name": "Python 3"
    },
    "language_info": {
      "name": "python"
    }
  },
  "cells": [
    {
      "cell_type": "markdown",
      "source": [
        "# **Redes neuronales completamente conectadas aplicadas en MNIST reconocimiento  de dígitos manuscritos\n",
        "**"
      ],
      "metadata": {
        "id": "_zyYxFp6idQn"
      }
    },
    {
      "cell_type": "markdown",
      "source": [
        "  1. Carga del conjunto de datos MNIST"
      ],
      "metadata": {
        "id": "zw5sH-IXiuTL"
      }
    },
    {
      "cell_type": "code",
      "execution_count": 4,
      "metadata": {
        "id": "1J8-tebYicYF"
      },
      "outputs": [],
      "source": [
        "import keras\n",
        "#Carga del conjunto de datos MNIST\n",
        "mnist = keras.datasets.mnist\n",
        "#Carga la division de entrenamiento y preba del conjunto de datos MNIST\n",
        "(training_images, training_labels), (test_images, test_labels) = mnist.load_data()"
      ]
    },
    {
      "cell_type": "markdown",
      "source": [
        "  2. Visualizacion de una muestra"
      ],
      "metadata": {
        "id": "KxMhIga3kZB5"
      }
    },
    {
      "cell_type": "code",
      "source": [
        "import numpy as np\n",
        "import matplotlib.pyplot as plt\n",
        "# Poner aqui entre 0 y 59999\n",
        "index = 3\n",
        "#  imprime la etiqueta y la imagen\n",
        "np.set_printoptions(linewidth=320)\n",
        "print (f'Label:  {training_labels[index]}')\n",
        "print (f'Image:\\n   {training_images[index]}')\n",
        "# Visualiza la imagen\n",
        "plt.imshow(training_images[index])\n"
      ],
      "metadata": {
        "colab": {
          "base_uri": "https://localhost:8080/",
          "height": 1000
        },
        "id": "BNm4Ujqckcpu",
        "outputId": "6a969414-f73d-4eab-8d7f-92f8514a80e6"
      },
      "execution_count": 8,
      "outputs": [
        {
          "output_type": "stream",
          "name": "stdout",
          "text": [
            "Label:  1\n",
            "Image:\n",
            "   [[  0   0   0   0   0   0   0   0   0   0   0   0   0   0   0   0   0   0   0   0   0   0   0   0   0   0   0   0]\n",
            " [  0   0   0   0   0   0   0   0   0   0   0   0   0   0   0   0   0   0   0   0   0   0   0   0   0   0   0   0]\n",
            " [  0   0   0   0   0   0   0   0   0   0   0   0   0   0   0   0   0   0   0   0   0   0   0   0   0   0   0   0]\n",
            " [  0   0   0   0   0   0   0   0   0   0   0   0   0   0   0   0   0   0   0   0   0   0   0   0   0   0   0   0]\n",
            " [  0   0   0   0   0   0   0   0   0   0   0   0   0   0   0   0   0   0   0   0   0   0   0   0   0   0   0   0]\n",
            " [  0   0   0   0   0   0   0   0   0   0   0   0   0   0   0   0   0   0 124 253 255  63   0   0   0   0   0   0]\n",
            " [  0   0   0   0   0   0   0   0   0   0   0   0   0   0   0   0   0  96 244 251 253  62   0   0   0   0   0   0]\n",
            " [  0   0   0   0   0   0   0   0   0   0   0   0   0   0   0   0   0 127 251 251 253  62   0   0   0   0   0   0]\n",
            " [  0   0   0   0   0   0   0   0   0   0   0   0   0   0   0   0  68 236 251 211  31   8   0   0   0   0   0   0]\n",
            " [  0   0   0   0   0   0   0   0   0   0   0   0   0   0   0  60 228 251 251  94   0   0   0   0   0   0   0   0]\n",
            " [  0   0   0   0   0   0   0   0   0   0   0   0   0   0   0 155 253 253 189   0   0   0   0   0   0   0   0   0]\n",
            " [  0   0   0   0   0   0   0   0   0   0   0   0   0   0  20 253 251 235  66   0   0   0   0   0   0   0   0   0]\n",
            " [  0   0   0   0   0   0   0   0   0   0   0   0   0  32 205 253 251 126   0   0   0   0   0   0   0   0   0   0]\n",
            " [  0   0   0   0   0   0   0   0   0   0   0   0   0 104 251 253 184  15   0   0   0   0   0   0   0   0   0   0]\n",
            " [  0   0   0   0   0   0   0   0   0   0   0   0  80 240 251 193  23   0   0   0   0   0   0   0   0   0   0   0]\n",
            " [  0   0   0   0   0   0   0   0   0   0   0  32 253 253 253 159   0   0   0   0   0   0   0   0   0   0   0   0]\n",
            " [  0   0   0   0   0   0   0   0   0   0   0 151 251 251 251  39   0   0   0   0   0   0   0   0   0   0   0   0]\n",
            " [  0   0   0   0   0   0   0   0   0   0  48 221 251 251 172   0   0   0   0   0   0   0   0   0   0   0   0   0]\n",
            " [  0   0   0   0   0   0   0   0   0   0 234 251 251 196  12   0   0   0   0   0   0   0   0   0   0   0   0   0]\n",
            " [  0   0   0   0   0   0   0   0   0   0 253 251 251  89   0   0   0   0   0   0   0   0   0   0   0   0   0   0]\n",
            " [  0   0   0   0   0   0   0   0   0 159 255 253 253  31   0   0   0   0   0   0   0   0   0   0   0   0   0   0]\n",
            " [  0   0   0   0   0   0   0   0  48 228 253 247 140   8   0   0   0   0   0   0   0   0   0   0   0   0   0   0]\n",
            " [  0   0   0   0   0   0   0   0  64 251 253 220   0   0   0   0   0   0   0   0   0   0   0   0   0   0   0   0]\n",
            " [  0   0   0   0   0   0   0   0  64 251 253 220   0   0   0   0   0   0   0   0   0   0   0   0   0   0   0   0]\n",
            " [  0   0   0   0   0   0   0   0  24 193 253 220   0   0   0   0   0   0   0   0   0   0   0   0   0   0   0   0]\n",
            " [  0   0   0   0   0   0   0   0   0   0   0   0   0   0   0   0   0   0   0   0   0   0   0   0   0   0   0   0]\n",
            " [  0   0   0   0   0   0   0   0   0   0   0   0   0   0   0   0   0   0   0   0   0   0   0   0   0   0   0   0]\n",
            " [  0   0   0   0   0   0   0   0   0   0   0   0   0   0   0   0   0   0   0   0   0   0   0   0   0   0   0   0]]\n"
          ]
        },
        {
          "output_type": "execute_result",
          "data": {
            "text/plain": [
              "<matplotlib.image.AxesImage at 0x78872d1ab760>"
            ]
          },
          "metadata": {},
          "execution_count": 8
        },
        {
          "output_type": "display_data",
          "data": {
            "text/plain": [
              "<Figure size 640x480 with 1 Axes>"
            ],
            "image/png": "[encoded data removed]"
          },
          "metadata": {}
        }
      ]
    },
    {
      "cell_type": "code",
      "source": [],
      "metadata": {
        "id": "Zj272tKzioUf"
      },
      "execution_count": null,
      "outputs": []
    },
    {
      "cell_type": "markdown",
      "source": [
        "  3. Normalizacion de datos\n",
        "  Normaliza los valores de píxeles de las imágenes dividiendo por 255.0, lo que asegura que\n",
        "los valores estén en el rango [0, 1]."
      ],
      "metadata": {
        "id": "D1I5117DmPSa"
      }
    },
    {
      "cell_type": "code",
      "source": [
        "#Normalizacion de datos del tren y probar las imagenes\n",
        "training_images = training_images/255.0\n",
        "test_images = test_images /255.0"
      ],
      "metadata": {
        "id": "jYf3Uw94mVrA"
      },
      "execution_count": 9,
      "outputs": []
    },
    {
      "cell_type": "markdown",
      "source": [
        "  4. Construccion del modelo"
      ],
      "metadata": {
        "id": "pnJqM3nOmx3i"
      }
    },
    {
      "cell_type": "code",
      "source": [
        "# Cosntruir el modelo de clasificacion\n",
        "model = keras.models.Sequential([keras.layers.Flatten(input_shape=(28,28)),\n",
        "                                 keras.layers.Dense(128, activation='relu'),\n",
        "                                 keras.layers.Dense(10,activation='softmax')])"
      ],
      "metadata": {
        "id": "-AEO5LJOmbj_"
      },
      "execution_count": 12,
      "outputs": []
    },
    {
      "cell_type": "markdown",
      "source": [
        "  5. Compilacion del modelo\n",
        "  "
      ],
      "metadata": {
        "id": "O5Gk1ABKolWB"
      }
    },
    {
      "cell_type": "code",
      "source": [
        "#Compilacion del modelo\n",
        "model.compile(optimizer='adam',\n",
        "              loss='sparse_categorical_crossentropy',\n",
        "              metrics=['accuracy'])\n",
        "model.summary()"
      ],
      "metadata": {
        "colab": {
          "base_uri": "https://localhost:8080/"
        },
        "id": "-iG56AjbosiV",
        "outputId": "f0fe4c3d-455f-4f6b-f05f-78a3bd89f2c3"
      },
      "execution_count": 13,
      "outputs": [
        {
          "output_type": "stream",
          "name": "stdout",
          "text": [
            "Model: \"sequential\"\n",
            "_________________________________________________________________\n",
            " Layer (type)                Output Shape              Param #   \n",
            "=================================================================\n",
            " flatten_1 (Flatten)         (None, 784)               0         \n",
            "                                                                 \n",
            " dense_1 (Dense)             (None, 128)               100480    \n",
            "                                                                 \n",
            " dense_2 (Dense)             (None, 10)                1290      \n",
            "                                                                 \n",
            "=================================================================\n",
            "Total params: 101770 (397.54 KB)\n",
            "Trainable params: 101770 (397.54 KB)\n",
            "Non-trainable params: 0 (0.00 Byte)\n",
            "_________________________________________________________________\n"
          ]
        }
      ]
    },
    {
      "cell_type": "markdown",
      "source": [
        "  6. Entrenamiento del modelo"
      ],
      "metadata": {
        "id": "b_vIlb_spY6P"
      }
    },
    {
      "cell_type": "code",
      "source": [
        "history = model.fit(training_images, training_labels, epochs=10)"
      ],
      "metadata": {
        "colab": {
          "base_uri": "https://localhost:8080/"
        },
        "id": "DOqfM340pMII",
        "outputId": "e5852611-1cb1-4f54-ba05-96476b41d74f"
      },
      "execution_count": 14,
      "outputs": [
        {
          "output_type": "stream",
          "name": "stdout",
          "text": [
            "Epoch 1/10\n",
            "1875/1875 [==============================] - 10s 5ms/step - loss: 0.2582 - accuracy: 0.9261\n",
            "Epoch 2/10\n",
            "1875/1875 [==============================] - 9s 5ms/step - loss: 0.1104 - accuracy: 0.9672\n",
            "Epoch 3/10\n",
            "1875/1875 [==============================] - 7s 4ms/step - loss: 0.0771 - accuracy: 0.9767\n",
            "Epoch 4/10\n",
            "1875/1875 [==============================] - 9s 5ms/step - loss: 0.0572 - accuracy: 0.9823\n",
            "Epoch 5/10\n",
            "1875/1875 [==============================] - 8s 4ms/step - loss: 0.0451 - accuracy: 0.9859\n",
            "Epoch 6/10\n",
            "1875/1875 [==============================] - 9s 5ms/step - loss: 0.0359 - accuracy: 0.9886\n",
            "Epoch 7/10\n",
            "1875/1875 [==============================] - 9s 5ms/step - loss: 0.0273 - accuracy: 0.9917\n",
            "Epoch 8/10\n",
            "1875/1875 [==============================] - 8s 4ms/step - loss: 0.0240 - accuracy: 0.9923\n",
            "Epoch 9/10\n",
            "1875/1875 [==============================] - 9s 5ms/step - loss: 0.0188 - accuracy: 0.9943\n",
            "Epoch 10/10\n",
            "1875/1875 [==============================] - 7s 4ms/step - loss: 0.0150 - accuracy: 0.9955\n"
          ]
        }
      ]
    },
    {
      "cell_type": "markdown",
      "source": [],
      "metadata": {
        "id": "aPmqHZVvrgQn"
      }
    },
    {
      "cell_type": "markdown",
      "source": [
        "  7. Graficar el historial del entrenamiento"
      ],
      "metadata": {
        "id": "Ro_imc-trmmG"
      }
    },
    {
      "cell_type": "code",
      "source": [
        "  # Graficar el historial del entrenamiento\n",
        "  import pandas as pd\n",
        "  df = pd.DataFrame()\n",
        "  pd.DataFrame(history.history).plot(grid=True)"
      ],
      "metadata": {
        "colab": {
          "base_uri": "https://localhost:8080/",
          "height": 468
        },
        "id": "1wxuPXRGoxnP",
        "outputId": "2bd17bb5-1247-4468-b7cf-3db573be84f2"
      },
      "execution_count": 18,
      "outputs": [
        {
          "output_type": "execute_result",
          "data": {
            "text/plain": [
              "<Axes: >"
            ]
          },
          "metadata": {},
          "execution_count": 18
        },
        {
          "output_type": "display_data",
          "data": {
            "text/plain": [
              "<Figure size 640x480 with 1 Axes>"
            ],
            "image/png": "[encoded data removed]"
          },
          "metadata": {}
        }
      ]
    },
    {
      "cell_type": "markdown",
      "source": [
        "  8. Evaluacion del modelo\n"
      ],
      "metadata": {
        "id": "XECL5-H4s96X"
      }
    },
    {
      "cell_type": "code",
      "source": [
        "# Evaluacion del modelo\n",
        "loss, accuracy = model.evaluate(training_images, training_labels)\n",
        "print (\"Perdida en el conjunto de entrenamiento: \", loss)\n",
        "print (\"Prescision en el conjuno de entrenamiento:\" , accuracy)\n",
        "\n",
        "# Evaluacion del modelo con datos no vistos\n",
        "loss, accuracy = model.evaluate(test_images, test_labels)\n",
        "print (\"Perdida en el conjunto de pruebas: \", loss)\n",
        "print (\"Prescision en el conjuno de pruebas:\" , accuracy)"
      ],
      "metadata": {
        "colab": {
          "base_uri": "https://localhost:8080/"
        },
        "id": "nncP8q28tBdd",
        "outputId": "836bb5fd-d43d-4977-d570-a2310549bee4"
      },
      "execution_count": 20,
      "outputs": [
        {
          "output_type": "stream",
          "name": "stdout",
          "text": [
            "1875/1875 [==============================] - 4s 2ms/step - loss: 0.0104 - accuracy: 0.9970\n",
            "Perdida en el conjunto de entrenamiento:  0.010449615307152271\n",
            "Prescision en el conjuno de entrenamiento: 0.9970333576202393\n",
            "313/313 [==============================] - 1s 2ms/step - loss: 0.0791 - accuracy: 0.9781\n",
            "Perdida en el conjunto de pruebas:  0.07912515848875046\n",
            "Prescision en el conjuno de pruebas: 0.9781000018119812\n"
          ]
        }
      ]
    },
    {
      "cell_type": "markdown",
      "source": [],
      "metadata": {
        "id": "3eQH88Ads9mK"
      }
    }
  ]
}