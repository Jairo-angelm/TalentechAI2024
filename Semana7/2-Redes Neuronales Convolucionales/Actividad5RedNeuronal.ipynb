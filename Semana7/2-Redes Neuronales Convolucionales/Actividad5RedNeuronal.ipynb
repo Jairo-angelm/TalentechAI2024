{
  "nbformat": 4,
  "nbformat_minor": 0,
  "metadata": {
    "colab": {
      "provenance": []
    },
    "kernelspec": {
      "name": "python3",
      "display_name": "Python 3"
    },
    "language_info": {
      "name": "python"
    }
  },
  "cells": [
    {
      "cell_type": "markdown",
      "source": [
        "Redes Neuronal Convolucional aplicadas en\n",
        "MNIST reconocimiento de dígitos manuscritos"
      ],
      "metadata": {
        "id": "FbhMQGS0lS4V"
      }
    },
    {
      "cell_type": "code",
      "source": [
        "import keras\n",
        "import numpy as np\n",
        "import pandas as pd\n",
        "import matplotlib.pyplot as plt"
      ],
      "metadata": {
        "id": "J-9I30_HlXJ4"
      },
      "execution_count": null,
      "outputs": []
    },
    {
      "cell_type": "markdown",
      "source": [
        "Cargar el conjunto de datos"
      ],
      "metadata": {
        "id": "B8zS7OBuluX1"
      }
    },
    {
      "cell_type": "code",
      "source": [
        "#Cargar el conjunto de datos\n",
        "mnist = keras.datasets.mnist\n",
        "#Cargar divison de entrenamiento y pruebas\n",
        "(training_images, training_labels), (test_images, test_labels) = mnist.load_data()"
      ],
      "metadata": {
        "colab": {
          "base_uri": "https://localhost:8080/"
        },
        "id": "hdLa3pHPlyGf",
        "outputId": "b3f63dee-9ca7-4f4c-abe5-9d604df58b1f"
      },
      "execution_count": null,
      "outputs": [
        {
          "output_type": "stream",
          "name": "stdout",
          "text": [
            "Downloading data from https://storage.googleapis.com/tensorflow/tf-keras-datasets/mnist.npz\n",
            "11490434/11490434 [==============================] - 0s 0us/step\n"
          ]
        }
      ]
    },
    {
      "cell_type": "markdown",
      "source": [
        "Normalizacion de datos"
      ],
      "metadata": {
        "id": "l_sVaJpBmdbr"
      }
    },
    {
      "cell_type": "code",
      "source": [
        "training_images = training_images /255.0\n",
        "test_images = test_images /255.0\n"
      ],
      "metadata": {
        "id": "cURtEz2qmlwj"
      },
      "execution_count": null,
      "outputs": []
    },
    {
      "cell_type": "markdown",
      "source": [
        "Construccion del modelo"
      ],
      "metadata": {
        "id": "jD8uB2ItndUt"
      }
    },
    {
      "cell_type": "code",
      "execution_count": null,
      "metadata": {
        "colab": {
          "base_uri": "https://localhost:8080/"
        },
        "id": "pFJB-0RSlR2U",
        "outputId": "04771a10-eedf-4620-f03e-afbbefa9ccd8"
      },
      "outputs": [
        {
          "output_type": "stream",
          "name": "stdout",
          "text": [
            "Model: \"sequential\"\n",
            "_________________________________________________________________\n",
            " Layer (type)                Output Shape              Param #   \n",
            "=================================================================\n",
            " conv2d (Conv2D)             (None, 26, 26, 32)        320       \n",
            "                                                                 \n",
            " max_pooling2d (MaxPooling2  (None, 13, 13, 32)        0         \n",
            " D)                                                              \n",
            "                                                                 \n",
            " flatten (Flatten)           (None, 5408)              0         \n",
            "                                                                 \n",
            " dense (Dense)               (None, 128)               692352    \n",
            "                                                                 \n",
            " dense_1 (Dense)             (None, 10)                1290      \n",
            "                                                                 \n",
            "=================================================================\n",
            "Total params: 693962 (2.65 MB)\n",
            "Trainable params: 693962 (2.65 MB)\n",
            "Non-trainable params: 0 (0.00 Byte)\n",
            "_________________________________________________________________\n"
          ]
        }
      ],
      "source": [
        "#Construccion del modelo\n",
        "model = keras.models.Sequential([\n",
        " # Agregar convoluciones y max poloing\n",
        "    keras.layers.Conv2D(32, (3,3), activation='relu', input_shape=(28,28,1)),\n",
        "    keras.layers.MaxPooling2D(2,2),\n",
        " # Agregar las mismas capas que antes\n",
        " keras.layers.Flatten(),\n",
        " keras.layers.Dense(128, activation='relu'),\n",
        " keras.layers.Dense(10, activation='softmax')\n",
        "])\n",
        "model.summary()\n",
        "\n"
      ]
    },
    {
      "cell_type": "markdown",
      "source": [
        "Compilar el modelo"
      ],
      "metadata": {
        "id": "0uNiRekMofw_"
      }
    },
    {
      "cell_type": "code",
      "source": [
        "#Compilar el modelo\n",
        "model.compile(optimizer='adam',\n",
        "               loss='sparse_categorical_crossentropy',\n",
        "               metrics=['accuracy'])\n"
      ],
      "metadata": {
        "id": "18NE_VVookBU"
      },
      "execution_count": null,
      "outputs": []
    },
    {
      "cell_type": "markdown",
      "source": [
        "Entrenamiento del modelo"
      ],
      "metadata": {
        "id": "cvi8vfNLo3L9"
      }
    },
    {
      "cell_type": "code",
      "source": [
        "#Entrenar el modelo\n",
        "history = model.fit(training_images, training_labels, epochs= 10)\n",
        "\n",
        "#Graficar el historial de entrenamieto\n",
        "pd.DataFrame(history.history).plot(figsize=(8,5))\n",
        "plt.grid(True)\n",
        "plt.gca().set_ylim(0,1)\n",
        "plt.show()\n"
      ],
      "metadata": {
        "colab": {
          "base_uri": "https://localhost:8080/",
          "height": 808
        },
        "id": "40U8Mryso5Vs",
        "outputId": "6d93e821-d16c-4b51-f4f4-b1f41891d2db"
      },
      "execution_count": null,
      "outputs": [
        {
          "output_type": "stream",
          "name": "stdout",
          "text": [
            "Epoch 1/10\n",
            "1875/1875 [==============================] - 44s 23ms/step - loss: 0.1500 - accuracy: 0.9550\n",
            "Epoch 2/10\n",
            "1875/1875 [==============================] - 40s 21ms/step - loss: 0.0526 - accuracy: 0.9841\n",
            "Epoch 3/10\n",
            "1875/1875 [==============================] - 38s 21ms/step - loss: 0.0324 - accuracy: 0.9895\n",
            "Epoch 4/10\n",
            "1875/1875 [==============================] - 37s 20ms/step - loss: 0.0213 - accuracy: 0.9937\n",
            "Epoch 5/10\n",
            "1875/1875 [==============================] - 39s 21ms/step - loss: 0.0144 - accuracy: 0.9952\n",
            "Epoch 6/10\n",
            "1875/1875 [==============================] - 41s 22ms/step - loss: 0.0098 - accuracy: 0.9969\n",
            "Epoch 7/10\n",
            "1875/1875 [==============================] - 40s 21ms/step - loss: 0.0080 - accuracy: 0.9975\n",
            "Epoch 8/10\n",
            "1875/1875 [==============================] - 39s 21ms/step - loss: 0.0059 - accuracy: 0.9983\n",
            "Epoch 9/10\n",
            "1875/1875 [==============================] - 39s 21ms/step - loss: 0.0048 - accuracy: 0.9985\n",
            "Epoch 10/10\n",
            "1875/1875 [==============================] - 41s 22ms/step - loss: 0.0049 - accuracy: 0.9983\n"
          ]
        },
        {
          "output_type": "display_data",
          "data": {
            "text/plain": [
              "<Figure size 800x500 with 1 Axes>"
            ],
            "image/png": "[encoded data removed]"
          },
          "metadata": {}
        }
      ]
    },
    {
      "cell_type": "markdown",
      "source": [
        "Ealuacion del modelo"
      ],
      "metadata": {
        "id": "RycB3SevqvBI"
      }
    },
    {
      "cell_type": "code",
      "source": [
        "#Evaluar el modelo en el conjunto de entrenamiento\n",
        "loss, accuracy = model.evaluate(training_images, training_labels)\n",
        "\n",
        "print(\"Perdida del conjunto de entrenamiento\",loss)\n",
        "print(\"Precision en el conjunto de entrenamiento\",accuracy)\n",
        "\n",
        "#Evaluar el modelo con datos no vistos\n",
        "loss, accuracy = model.evaluate(test_images, test_labels)\n",
        "\n",
        "print(\"Perdida del conjunto de prueba\",loss)\n",
        "print(\"Precision en el conjunto de prueba\",accuracy)"
      ],
      "metadata": {
        "colab": {
          "base_uri": "https://localhost:8080/"
        },
        "id": "9NJmVYiKqxu0",
        "outputId": "7683475a-f4c3-423a-956e-f50a80b51a99"
      },
      "execution_count": null,
      "outputs": [
        {
          "output_type": "stream",
          "name": "stdout",
          "text": [
            "1875/1875 [==============================] - 16s 8ms/step - loss: 0.0043 - accuracy: 0.9985\n",
            "Perdida del conjunto de entrenamiento 0.00428883358836174\n",
            "Precision en el conjunto de entrenamiento 0.9984999895095825\n",
            "313/313 [==============================] - 2s 6ms/step - loss: 0.0667 - accuracy: 0.9856\n",
            "Perdida del conjunto de prueba 0.06666853278875351\n",
            "Precision en el conjunto de prueba 0.9855999946594238\n"
          ]
        }
      ]
    },
    {
      "cell_type": "markdown",
      "source": [
        "Prediccion"
      ],
      "metadata": {
        "id": "be2b2MWBr4Eh"
      }
    },
    {
      "cell_type": "code",
      "source": [
        "#Prediccion\n",
        "index = 1\n",
        "print(f'Label: {test_labels[index]}')\n",
        "clasificacion = model.predict(test_images[index:index+1])\n",
        "print(f'Prediccion: \\n {clasificacion.reshape(-1,1)}')\n",
        "\n",
        "\n"
      ],
      "metadata": {
        "colab": {
          "base_uri": "https://localhost:8080/"
        },
        "id": "rwVBmquZr50c",
        "outputId": "b6c3bd73-b2d5-40fe-a8c1-b2f0a94fb32a"
      },
      "execution_count": null,
      "outputs": [
        {
          "output_type": "stream",
          "name": "stdout",
          "text": [
            "Label: 2\n",
            "1/1 [==============================] - 0s 115ms/step\n",
            "Prediccion: \n",
            " [[3.9971752e-11]\n",
            " [4.9725966e-09]\n",
            " [1.0000000e+00]\n",
            " [3.4502449e-15]\n",
            " [1.1092645e-18]\n",
            " [3.9139594e-19]\n",
            " [1.1312627e-12]\n",
            " [1.2605448e-16]\n",
            " [1.9957808e-13]\n",
            " [2.3287267e-15]]\n"
          ]
        }
      ]
    },
    {
      "cell_type": "markdown",
      "source": [
        "Etiquetas de 30 primeras imagenes dl conjunto de prueba"
      ],
      "metadata": {
        "id": "KBPFPiOYjG0O"
      }
    },
    {
      "cell_type": "code",
      "source": [
        "print(test_labels[:30] )"
      ],
      "metadata": {
        "colab": {
          "base_uri": "https://localhost:8080/"
        },
        "id": "Qabk31eIjQDZ",
        "outputId": "11d5a71b-b960-4600-f0ed-cbaa767bcdc6"
      },
      "execution_count": null,
      "outputs": [
        {
          "output_type": "stream",
          "name": "stdout",
          "text": [
            "[7 2 1 0 4 1 4 9 5 9 0 6 9 0 1 5 9 7 3 4 9 6 6 5 4 0 7 4 0 1]\n"
          ]
        }
      ]
    },
    {
      "cell_type": "markdown",
      "source": [
        "Seleccion de imagenes de interes"
      ],
      "metadata": {
        "id": "1y3s5LJIjjLg"
      }
    },
    {
      "cell_type": "code",
      "source": [
        "FIRST_IMAGE = 3\n",
        "SECOND_IMAGE = 10\n",
        "THIRD_IMAGE = 25\n",
        "\n",
        "#Para 7\n",
        "#FIRST_IMAGE = 2\n",
        "#SECOND_IMAGE = 5\n",
        "#THIRD_IMAGE = 14\n",
        "\n",
        "print (test_labels[FIRST_IMAGE])\n",
        "print (test_labels[SECOND_IMAGE])\n",
        "print (test_labels[THIRD_IMAGE])\n"
      ],
      "metadata": {
        "colab": {
          "base_uri": "https://localhost:8080/"
        },
        "id": "L8EGD-v8pEde",
        "outputId": "214e4db8-98ad-4281-c126-7aa330234483"
      },
      "execution_count": null,
      "outputs": [
        {
          "output_type": "stream",
          "name": "stdout",
          "text": [
            "0\n",
            "0\n",
            "0\n"
          ]
        }
      ]
    },
    {
      "cell_type": "markdown",
      "source": [
        "Visualizacion de Imagenes"
      ],
      "metadata": {
        "id": "DZyqgjH_mjQq"
      }
    },
    {
      "cell_type": "code",
      "source": [
        "f, axarr = plt.subplots(3,1)\n",
        "axarr[0].imshow(test_images[FIRST_IMAGE])\n",
        "axarr[1].imshow(test_images[SECOND_IMAGE])\n",
        "axarr[2].imshow(test_images[THIRD_IMAGE])"
      ],
      "metadata": {
        "colab": {
          "base_uri": "https://localhost:8080/",
          "height": 451
        },
        "id": "qx7W8tfYmMk8",
        "outputId": "8dbec8f3-6bec-4bea-d244-b60fc209741f"
      },
      "execution_count": null,
      "outputs": [
        {
          "output_type": "execute_result",
          "data": {
            "text/plain": [
              "<matplotlib.image.AxesImage at 0x7efddfbafee0>"
            ]
          },
          "metadata": {},
          "execution_count": 12
        },
        {
          "output_type": "display_data",
          "data": {
            "text/plain": [
              "<Figure size 640x480 with 3 Axes>"
            ],
            "image/png": "[encoded data removed]"
          },
          "metadata": {}
        }
      ]
    },
    {
      "cell_type": "markdown",
      "source": [
        "Extraccion de Activaciones  para extraer las activaciones de la capa especi"
      ],
      "metadata": {
        "id": "T89UM78Om0u9"
      }
    },
    {
      "cell_type": "code",
      "source": [
        "layer = 0\n",
        "filter1 = 0\n",
        "filter2 = 0\n",
        "\n",
        "layer_outputs = [layer.output for layer in model.layers]\n",
        "activation_model = keras.models.Model(inputs=model.input, outputs=layer_outputs)"
      ],
      "metadata": {
        "id": "BpUqE0ddm84X"
      },
      "execution_count": null,
      "outputs": []
    },
    {
      "cell_type": "markdown",
      "source": [
        "Visualizacion de convoluciones"
      ],
      "metadata": {
        "id": "YC0FGp4RnQFV"
      }
    },
    {
      "cell_type": "code",
      "source": [
        "f, axarr = plt.subplots(3,3)\n",
        "\n",
        "axarr[0,0].set_title('Image Input')\n",
        "axarr[0,0].imshow(test_images[FIRST_IMAGE])\n",
        "f1 = activation_model.predict(test_images[FIRST_IMAGE].reshape(1,28,28,1))[layer]\n",
        "axarr[0,1].set_title('Layer' + str(layer) + \", Filter1\")\n",
        "axarr[0,1].imshow(f1[0,: , :, filter1])\n",
        "axarr[0,2].set_title('Layer' + str(layer) + \", Filter2\")\n",
        "axarr[0,1].imshow(f1[0,: , :, filter2])\n",
        "\n",
        "axarr[1,0].imshow(test_images[SECOND_IMAGE])\n",
        "f2 = activation_model.predict(test_images[SECOND_IMAGE].reshape(1,28,28,1))[layer]\n",
        "axarr[1,1].imshow(f2[0,: , :, filter1])\n",
        "axarr[1,2].imshow(f2[0,: , :, filter2])\n",
        "\n",
        "axarr[2,0].imshow(test_images[THIRD_IMAGE])\n",
        "f3 = activation_model.predict(test_images[THIRD_IMAGE].reshape(1,28,28,1))[layer]\n",
        "axarr[2,1].imshow(f3[0,: , :, filter1])\n",
        "axarr[2,2].imshow(f3[0,: , :, filter2])\n"
      ],
      "metadata": {
        "colab": {
          "base_uri": "https://localhost:8080/",
          "height": 523
        },
        "id": "UmT3Q6bRnjOw",
        "outputId": "573170ca-a1ae-4f20-896c-ba19ef3a96a1"
      },
      "execution_count": null,
      "outputs": [
        {
          "output_type": "stream",
          "name": "stdout",
          "text": [
            "1/1 [==============================] - 0s 76ms/step\n",
            "1/1 [==============================] - 0s 23ms/step\n",
            "1/1 [==============================] - 0s 20ms/step\n"
          ]
        },
        {
          "output_type": "execute_result",
          "data": {
            "text/plain": [
              "<matplotlib.image.AxesImage at 0x7efddf72fb50>"
            ]
          },
          "metadata": {},
          "execution_count": 14
        },
        {
          "output_type": "display_data",
          "data": {
            "text/plain": [
              "<Figure size 640x480 with 9 Axes>"
            ],
            "image/png": "[encoded data removed]"
          },
          "metadata": {}
        }
      ]
    }
  ]
}